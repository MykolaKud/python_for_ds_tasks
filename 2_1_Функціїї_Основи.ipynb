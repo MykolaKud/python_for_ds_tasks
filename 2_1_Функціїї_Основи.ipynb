{
  "nbformat": 4,
  "nbformat_minor": 0,
  "metadata": {
    "colab": {
      "provenance": []
    },
    "kernelspec": {
      "name": "python3",
      "display_name": "Python 3"
    },
    "language_info": {
      "name": "python"
    }
  },
  "cells": [
    {
      "cell_type": "markdown",
      "source": [
        "# Домашнє завдання до теми \"Functions\""
      ],
      "metadata": {
        "id": "QtHabST6Ez_n"
      }
    },
    {
      "cell_type": "markdown",
      "source": [
        "1. Напишіть фукнцію `print_message`, яка виводить на екран \"Я програмую на Python💪\" і викличіть цю фукнцію 5 разів (найкраще це зробити в циклі).\n",
        "\n",
        "  **Увага**: фукнція має робити чітко лише зазначений функціонал. Наявність додаткового функціоналу і аргументів, які не потрібні для виконання безпосередньо завдання, буде вважатись помилкою."
      ],
      "metadata": {
        "id": "6pg_NzFq5_kO"
      }
    },
    {
      "cell_type": "code",
      "source": [
        "def print_message():\n",
        "  print(\"Я програмую на Python💪\")\n",
        "\n",
        "for i in range(5):\n",
        "   print_message()\n",
        "\n"
      ],
      "metadata": {
        "id": "RbXsfwI_D8ql",
        "outputId": "87b3bef2-e105-4fb8-e2f8-82edda30278f",
        "colab": {
          "base_uri": "https://localhost:8080/"
        }
      },
      "execution_count": null,
      "outputs": [
        {
          "output_type": "stream",
          "name": "stdout",
          "text": [
            "Я програмую на Python💪\n",
            "Я програмую на Python💪\n",
            "Я програмую на Python💪\n",
            "Я програмую на Python💪\n",
            "Я програмую на Python💪\n"
          ]
        }
      ]
    },
    {
      "cell_type": "markdown",
      "source": [
        "2. Напишіть функцію `calculation` яка приймає на вхід 4 аргументи типу int - `a`, `b`, `c`, `d` і вертає результат обчислення такої формули: $ (a + b - c) * d $.\n",
        "\n",
        "  Викличте функцію на наступному наборі аргументів і виведіть результат на екран:\n",
        "  ```\n",
        "  a = 16\n",
        "  b = 4\n",
        "  c = 9\n",
        "  d = 3\n",
        "  ```"
      ],
      "metadata": {
        "id": "oyRpWRXWBL9N"
      }
    },
    {
      "cell_type": "code",
      "source": [
        "def calculation(a, b, c, d):\n",
        "  return (a + b - c) * d"
      ],
      "metadata": {
        "id": "Ggt2tx6kD-LS"
      },
      "execution_count": null,
      "outputs": []
    },
    {
      "cell_type": "code",
      "source": [
        "a = 16\n",
        "b = 4\n",
        "c = 9\n",
        "d = 3\n",
        "\n",
        "calculation(a, b, c, d)"
      ],
      "metadata": {
        "id": "o21KpO57CR3z",
        "outputId": "cf07503e-2d1b-4fbd-ae49-2c1b7a5d724e",
        "colab": {
          "base_uri": "https://localhost:8080/"
        }
      },
      "execution_count": null,
      "outputs": [
        {
          "output_type": "execute_result",
          "data": {
            "text/plain": [
              "33"
            ]
          },
          "metadata": {},
          "execution_count": 20
        }
      ]
    },
    {
      "cell_type": "markdown",
      "source": [
        "3. Напишіть функцію, яка додає до аргумента 15 і вертає результат додавання. Викличте функцію, передаючи в якості аргументів кожну з наступних змінних по черзі, і виведіть кожного разу результат на екран.\n",
        "```\n",
        "x = 9\n",
        "y = 14\n",
        "z = -19\n",
        "```"
      ],
      "metadata": {
        "id": "5hf1CbllDU_t"
      }
    },
    {
      "cell_type": "code",
      "source": [
        "def adding_15(i):\n",
        "  return i + 15"
      ],
      "metadata": {
        "id": "GvEs_nUtD_Cd"
      },
      "execution_count": null,
      "outputs": []
    },
    {
      "cell_type": "code",
      "source": [
        "x = 9\n",
        "adding_15(x)"
      ],
      "metadata": {
        "id": "snnXkdDDDRrw",
        "outputId": "6a385fd2-6383-4e25-b500-04c1c7142f92",
        "colab": {
          "base_uri": "https://localhost:8080/"
        }
      },
      "execution_count": null,
      "outputs": [
        {
          "output_type": "execute_result",
          "data": {
            "text/plain": [
              "24"
            ]
          },
          "metadata": {},
          "execution_count": 22
        }
      ]
    },
    {
      "cell_type": "code",
      "source": [
        "y = 14\n",
        "adding_15(y)"
      ],
      "metadata": {
        "id": "Re3tKXD3DZrJ",
        "outputId": "855b5d8e-c654-446a-ce1b-2d96a0e885f6",
        "colab": {
          "base_uri": "https://localhost:8080/"
        }
      },
      "execution_count": null,
      "outputs": [
        {
          "output_type": "execute_result",
          "data": {
            "text/plain": [
              "29"
            ]
          },
          "metadata": {},
          "execution_count": 23
        }
      ]
    },
    {
      "cell_type": "code",
      "source": [
        "z = -19\n",
        "adding_15(z)"
      ],
      "metadata": {
        "id": "pKHNkRFODZgH",
        "outputId": "bce5eccb-0ae6-4cb1-8138-66dd682de758",
        "colab": {
          "base_uri": "https://localhost:8080/"
        }
      },
      "execution_count": null,
      "outputs": [
        {
          "output_type": "execute_result",
          "data": {
            "text/plain": [
              "-4"
            ]
          },
          "metadata": {},
          "execution_count": 24
        }
      ]
    },
    {
      "cell_type": "markdown",
      "source": [
        "4. Напишіть функцію `multipy_numbers`, яка приймає два числа як аргументи і повертає їх добуток.\n",
        "\n",
        "  Викличіть функцію `multipy_numbers` на парах чисел\n",
        "    - 10 і 2\n",
        "    - 7 і 8\n",
        "    - 1024 і 999.\n",
        "  \n",
        "  Виведіть результат кожного виклику.\n",
        "  При виконанні цього завдання з використанням циклу - отримаєте 2х балів за нього :)"
      ],
      "metadata": {
        "id": "bUuVBhie53uK"
      }
    },
    {
      "cell_type": "code",
      "source": [
        "def multipy_numbers(x, y):\n",
        "  return x * y\n",
        "\n",
        "#без використання циклу на прикладі пари 10 і 2\n",
        "f = 10\n",
        "s = 2\n",
        "multipy_numbers(f, s)"
      ],
      "metadata": {
        "id": "cDqrgZ4YEAKj",
        "colab": {
          "base_uri": "https://localhost:8080/"
        },
        "outputId": "b2139706-66fb-402d-eecf-da9b3644df4b"
      },
      "execution_count": null,
      "outputs": [
        {
          "output_type": "execute_result",
          "data": {
            "text/plain": [
              "20"
            ]
          },
          "metadata": {},
          "execution_count": 6
        }
      ]
    },
    {
      "cell_type": "code",
      "source": [
        "#з використання циклу\n",
        "numbers = [(10, 2), (7, 8), (1024, 999)]\n",
        "\n",
        "for x, y in numbers:\n",
        "   mult = multipy_numbers(x, y)\n",
        "   print(mult)\n"
      ],
      "metadata": {
        "colab": {
          "base_uri": "https://localhost:8080/"
        },
        "id": "XpZQ3EKzM-4E",
        "outputId": "4b442c7d-a697-492b-d344-c410a3204540"
      },
      "execution_count": null,
      "outputs": [
        {
          "output_type": "stream",
          "name": "stdout",
          "text": [
            "20\n",
            "56\n",
            "1022976\n"
          ]
        }
      ]
    },
    {
      "cell_type": "markdown",
      "source": [
        "5. **Ділення з перевіркою типів.**  \n",
        "\n",
        "  1. Напишіть функцію `int_division` яка приймає на вхід два аргументи типу `int` - `a` і `b`, і виконує ділення першого аргумента на другий: `a/b`. При цьому функція перед діленням перевіряє, чи другий аргумент не дорівнює 0. Якщо другий аргумент не 0, фукнція вертає результат ділення, інакше - замість виконання ділення, вертає повідомлення на екран \"Не можу виконати ділення на 0\".\n",
        "\n",
        "    Якщо типи, надані у функцію, не `int` - функція виводить повідомлення \"Не працюю з такими типами даних.\".\n",
        "\n",
        "  2. Запустіть функцію на наступних парах чисел:\n",
        "  - 12 і 6\n",
        "  - 20 і 0\n",
        "  - 112 і 10\n",
        "  - 99 і 0\n",
        "  - 11 i 1.1\n",
        "\n",
        "    і виведіть на екран повідомлення \"Результат роботи функції: \" - і далі те, що повернула функція.\n",
        "\n",
        "  3. Дайте відповідь на питання: \"Чому в деяких випадках функція повернула None?\":"
      ],
      "metadata": {
        "id": "I03t46k27dDZ"
      }
    },
    {
      "cell_type": "code",
      "source": [
        "#Напишіть функцію int_division яка приймає на вхід два аргументи типу int - a і b\n",
        "def int_division(a, b):\n",
        "  if b == 0:\n",
        "    return \"Не можу виконати ділення на 0\"\n",
        "  elif isinstance(a, int) and isinstance(b, int):\n",
        "    return a / b\n",
        "  else:\n",
        "    print(\"Не працюю з такими типами даних.\")\n"
      ],
      "metadata": {
        "id": "1-EQhxrAEEAb"
      },
      "execution_count": 5,
      "outputs": []
    },
    {
      "cell_type": "code",
      "source": [
        "#Запустіть функцію на наступних парах чисел:\n",
        "numbers = [(12, 6), (20, 0), (112, 10), (99, 0), (11, 1.1)]\n",
        "\n",
        "for x, y in numbers:\n",
        "  result = int_division(x, y)\n",
        "  print(f\"Результат роботи функції: {result}\")"
      ],
      "metadata": {
        "colab": {
          "base_uri": "https://localhost:8080/"
        },
        "id": "pZBDPPcYQzuK",
        "outputId": "5afa73e9-37fb-440f-ed28-ab594a512417"
      },
      "execution_count": 6,
      "outputs": [
        {
          "output_type": "stream",
          "name": "stdout",
          "text": [
            "Результат роботи функції: 2.0\n",
            "Результат роботи функції: Не можу виконати ділення на 0\n",
            "Результат роботи функції: 11.2\n",
            "Результат роботи функції: Не можу виконати ділення на 0\n",
            "Не працюю з такими типами даних.\n",
            "Результат роботи функції: None\n"
          ]
        }
      ]
    },
    {
      "cell_type": "code",
      "source": [
        "#Дайте відповідь на питання: \"Чому в деяких випадках функція повернула None?\":\n",
        "#у випадку коли один з аргументів float, функція виводить повідомлення \"Не працюю з такими типами даних.\"\n",
        "#і оскільки в цьому випадку функція нічого не повертає - то результат буде None"
      ],
      "metadata": {
        "id": "qJex6qEjcXr9"
      },
      "execution_count": 7,
      "outputs": []
    },
    {
      "cell_type": "code",
      "source": [],
      "metadata": {
        "id": "HEmE6rhn3Hbq"
      },
      "execution_count": null,
      "outputs": []
    }
  ]
}