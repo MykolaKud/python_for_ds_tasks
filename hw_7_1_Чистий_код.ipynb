{
  "cells": [
    {
      "cell_type": "markdown",
      "id": "aed503f1",
      "metadata": {
        "ExecuteTime": {
          "end_time": "2023-07-27T20:14:32.871852Z",
          "start_time": "2023-07-27T20:14:31.036121Z"
        },
        "id": "aed503f1"
      },
      "source": [
        "У завданнях 1-4. Вам наданий простий код на Python, який не відповідає вказівкам PEP8. Ваше завдання — відредагувати код так, аби він відповідав PEP8. Напишіть після редагуванню коду, дотримання яких правил з pep8 ви досягли в відредагованій версі, наприклад\n",
        "```\n",
        "- додала пробіли навколо бінарного оператора\n",
        "- додала два порожні рядки між визначеннями функцій\n",
        "і тд\n",
        "```\n",
        "Також можна зазанчити використані правила коментарями по коду, а не окремим повідомленням.\n",
        "\n",
        "Відредагований код має виконувати весь той самий функціонал, але бути написаний відповідно до вимог до гарного коду на Python! Не забудьте запустити відредагований код, він має бути робочим."
      ]
    },
    {
      "cell_type": "markdown",
      "id": "e7fea147",
      "metadata": {
        "id": "e7fea147"
      },
      "source": [
        "Завдання 1."
      ]
    },
    {
      "cell_type": "code",
      "execution_count": 2,
      "id": "f63d84d7",
      "metadata": {
        "ExecuteTime": {
          "end_time": "2023-07-29T17:02:37.075783Z",
          "start_time": "2023-07-29T17:02:37.035259Z"
        },
        "id": "f63d84d7",
        "colab": {
          "base_uri": "https://localhost:8080/",
          "height": 72
        },
        "outputId": "3e9b092f-24d7-4c9c-8a65-3c9e78e0a8ad"
      },
      "outputs": [
        {
          "output_type": "stream",
          "name": "stdout",
          "text": [
            "Hello, John\n"
          ]
        },
        {
          "output_type": "display_data",
          "data": {
            "text/plain": [
              "None"
            ]
          },
          "metadata": {}
        },
        {
          "output_type": "display_data",
          "data": {
            "text/plain": [
              "8"
            ]
          },
          "metadata": {}
        }
      ],
      "source": [
        "def greet(name):\n",
        "    print(f\"Hello, {name}\") #переніс рядок з кодом функції і відділив його 4 пробілами\n",
        "\n",
        "#додав два попрожніх рядки між визначенням функцій\n",
        "def add(n1, n2): #відділив пробілами аргументи функції\n",
        "    return n1 + n2 #відділив пробілами математичний оператор +\n",
        "\n",
        "x = 5\n",
        "y = 3 # переніс визначення змінних на окремі рядки\n",
        "\n",
        "display(greet(\"John\"), add(x, y)) #додав пробіл перед наступним елементом який треба відобразити\n"
      ]
    },
    {
      "cell_type": "code",
      "execution_count": null,
      "id": "41b7e672",
      "metadata": {
        "id": "41b7e672"
      },
      "outputs": [],
      "source": []
    },
    {
      "cell_type": "markdown",
      "id": "cea88baf",
      "metadata": {
        "id": "cea88baf"
      },
      "source": [
        "Завдання 2."
      ]
    },
    {
      "cell_type": "code",
      "execution_count": 3,
      "id": "dfb6d2b5",
      "metadata": {
        "ExecuteTime": {
          "end_time": "2023-07-29T17:05:49.706098Z",
          "start_time": "2023-07-29T17:05:49.688255Z"
        },
        "id": "dfb6d2b5",
        "colab": {
          "base_uri": "https://localhost:8080/"
        },
        "outputId": "0e3f332d-5287-4ebb-b4ca-e05ea962e764"
      },
      "outputs": [
        {
          "output_type": "stream",
          "name": "stdout",
          "text": [
            "Area: 78.53981633974483 Circumference: 31.41592653589793\n"
          ]
        }
      ],
      "source": [
        "from math import pi #прибрав символ узагальнення\n",
        "#додав пустий рядок після імпорту\n",
        "def calc_area(r): #замінив назву функції згідно PEP8 з нижнім регістром і нижнім підкресленням\n",
        "    return pi * r ** 2 #переніс рядок з кодом функції і відділив його 4 пробілами, додав пробіли до бінарних операторів\n",
        "\n",
        "#додав два попрожніх рядки між визначенням функцій\n",
        "def calc_circumference(r): #замінив назву функції згідно PEP8 з нижнім регістром і нижнім підкресленням\n",
        "    return 2 * pi * r\n",
        "\n",
        "radius=5\n",
        "#додав пустий рядок після визначення змінної\n",
        "print(\"Area:\",calc_area(radius),\"Circumference:\", calc_circumference(radius)) #додав пробіл перед наступним елементом який треба вивести і назви функцій"
      ]
    },
    {
      "cell_type": "code",
      "execution_count": null,
      "id": "df263672",
      "metadata": {
        "id": "df263672"
      },
      "outputs": [],
      "source": []
    },
    {
      "cell_type": "markdown",
      "id": "1fd691b7",
      "metadata": {
        "id": "1fd691b7"
      },
      "source": [
        "Завдання 3."
      ]
    },
    {
      "cell_type": "code",
      "execution_count": 4,
      "id": "1d5acb2d",
      "metadata": {
        "ExecuteTime": {
          "end_time": "2023-07-29T17:06:18.612622Z",
          "start_time": "2023-07-29T17:06:18.598477Z"
        },
        "id": "1d5acb2d"
      },
      "outputs": [],
      "source": [
        "class Animal:  #замінив назву класу згідно PEP8 з верхньою літерою на початку\n",
        "    pass #переніс рядок з кодом класу і відділив його 4 пробілами\n",
        "\n",
        "#додав два попрожніх рядки між визначенням функцій\n",
        "class Dog(Animal): #замінив назву класу згідно PEP8 з верхньою літерою на початку\n",
        "    def __init__(self, name): #додав пробіл між аргументами функції\n",
        "        self.name = name #додав пробіли навколо оператора =\n",
        "        self.type = 'Dog'#додав пробіли навколо оператора ="
      ]
    },
    {
      "cell_type": "code",
      "execution_count": null,
      "id": "0d4b2b8a",
      "metadata": {
        "id": "0d4b2b8a"
      },
      "outputs": [],
      "source": []
    },
    {
      "cell_type": "markdown",
      "id": "7d1d4f5d",
      "metadata": {
        "id": "7d1d4f5d"
      },
      "source": [
        "Завдання 4."
      ]
    },
    {
      "cell_type": "code",
      "execution_count": 5,
      "id": "a91c1cc4",
      "metadata": {
        "ExecuteTime": {
          "end_time": "2023-07-29T17:06:47.180263Z",
          "start_time": "2023-07-29T17:06:47.173617Z"
        },
        "id": "a91c1cc4",
        "colab": {
          "base_uri": "https://localhost:8080/"
        },
        "outputId": "e8e8e1e7-64cc-4af1-e1e4-7d5b390c63dd"
      },
      "outputs": [
        {
          "output_type": "stream",
          "name": "stdout",
          "text": [
            "1\n",
            "2\n",
            "3\n",
            "4\n",
            "5\n"
          ]
        }
      ],
      "source": [
        "my_list = [1, 2, 3, 4, 5] #замінив ім'я списку, який не відповідає вбудованій функції, додав пробіли навколо оператора = і після коми для відділення елементів списку\n",
        "#додав пустий рядок після визначення змінної\n",
        "for i in range(len(my_list)):\n",
        "    print(my_list[i]) #переніс рядок з кодом циклу і відділив його 4 пробілами"
      ]
    },
    {
      "cell_type": "code",
      "execution_count": null,
      "id": "c0f9541a",
      "metadata": {
        "id": "c0f9541a"
      },
      "outputs": [],
      "source": []
    },
    {
      "cell_type": "markdown",
      "id": "8b0487e6",
      "metadata": {
        "id": "8b0487e6"
      },
      "source": [
        "5.У вас є DataFrame df, що представляє результати тестів студентів з математики, англійської мови та історії. Поточний код обчислює середній бал для кожного студента шляхом ітерації за рядками DataFrame за допомогою iterrows().\n",
        "\n",
        "Ваше завдання полягає в тому, щоб змінити код так, аби уникнути використання iterrows() і замість цього застосувати більш ефективне та читабельне рішення відповідно до правил, озвучених у лекції. Рефакторинг треба зробити лише частині, де рахуються середні, імпорт і визначення датафрейму лишаємо без змін."
      ]
    },
    {
      "cell_type": "code",
      "execution_count": 7,
      "id": "5b3cc648",
      "metadata": {
        "ExecuteTime": {
          "end_time": "2023-07-29T17:15:55.926882Z",
          "start_time": "2023-07-29T17:15:55.686415Z"
        },
        "id": "5b3cc648"
      },
      "outputs": [],
      "source": [
        "import pandas as pd\n",
        "\n",
        "df = pd.DataFrame({\n",
        "    'student': ['Alice', 'Bob', 'Charlie', 'David'],\n",
        "    'math_score': [89, 94, 77, 85],\n",
        "    'english_score': [92, 88, 79, 85],\n",
        "    'history_score': [84, 92, 81, 89]\n",
        "})"
      ]
    },
    {
      "cell_type": "code",
      "execution_count": 8,
      "id": "f5858889",
      "metadata": {
        "ExecuteTime": {
          "end_time": "2023-07-29T17:15:55.926882Z",
          "start_time": "2023-07-29T17:15:55.686415Z"
        },
        "id": "f5858889"
      },
      "outputs": [],
      "source": [
        "#замість циклу використовуємо додавання значень з кожного стовпця\n",
        "df['average_score'] = (df['math_score'] + df['english_score'] + df['history_score']) / 3"
      ]
    },
    {
      "cell_type": "code",
      "execution_count": 9,
      "id": "74cea4fc",
      "metadata": {
        "id": "74cea4fc",
        "colab": {
          "base_uri": "https://localhost:8080/",
          "height": 209
        },
        "outputId": "691d6a81-a905-4564-ca95-921de57c8590"
      },
      "outputs": [
        {
          "output_type": "execute_result",
          "data": {
            "text/plain": [
              "0    88.333333\n",
              "1    91.333333\n",
              "2    79.000000\n",
              "3    86.333333\n",
              "Name: average_score, dtype: float64"
            ],
            "text/html": [
              "<div>\n",
              "<style scoped>\n",
              "    .dataframe tbody tr th:only-of-type {\n",
              "        vertical-align: middle;\n",
              "    }\n",
              "\n",
              "    .dataframe tbody tr th {\n",
              "        vertical-align: top;\n",
              "    }\n",
              "\n",
              "    .dataframe thead th {\n",
              "        text-align: right;\n",
              "    }\n",
              "</style>\n",
              "<table border=\"1\" class=\"dataframe\">\n",
              "  <thead>\n",
              "    <tr style=\"text-align: right;\">\n",
              "      <th></th>\n",
              "      <th>average_score</th>\n",
              "    </tr>\n",
              "  </thead>\n",
              "  <tbody>\n",
              "    <tr>\n",
              "      <th>0</th>\n",
              "      <td>88.333333</td>\n",
              "    </tr>\n",
              "    <tr>\n",
              "      <th>1</th>\n",
              "      <td>91.333333</td>\n",
              "    </tr>\n",
              "    <tr>\n",
              "      <th>2</th>\n",
              "      <td>79.000000</td>\n",
              "    </tr>\n",
              "    <tr>\n",
              "      <th>3</th>\n",
              "      <td>86.333333</td>\n",
              "    </tr>\n",
              "  </tbody>\n",
              "</table>\n",
              "</div><br><label><b>dtype:</b> float64</label>"
            ]
          },
          "metadata": {},
          "execution_count": 9
        }
      ],
      "source": [
        "df['average_score']"
      ]
    },
    {
      "cell_type": "markdown",
      "id": "34fb1db9",
      "metadata": {
        "id": "34fb1db9"
      },
      "source": [
        "6.У Вас є великий DataFrame df, що представляє транзакції продажу в магазині. Цей DataFrame містить понад 1 мільйон рядків і кілька стовпців, зокрема «product_name», «product_category», «product_price» і «transaction_date».\n",
        "\n",
        "І «product_name», і «product_category» є рядками, що представляють численні, але обмежені унікальні назви продуктів і категорії відповідно.\n",
        "\n",
        "Напишіть код для ефективного перетворення стовпців «product_name» і «product_category» на категорійний тип для ефективного використання пам’яті.\n",
        "Спробуйте вирішити це завдання, мінімізуючи використання пам'яті та зберігаючи читабельність коду. Крім того, виміряйте використання пам’яті до та після перетворення, щоб продемонструвати підвищення ефективності.\n",
        "\n",
        "Порівняйте кількість памʼяті, яку займає наданий набір даних і новий, створений Вами. В лекції був приклад. В скільки разів менше памʼяті займає новий датафрейм?"
      ]
    },
    {
      "cell_type": "code",
      "execution_count": 12,
      "id": "d4926909",
      "metadata": {
        "ExecuteTime": {
          "end_time": "2023-07-29T21:19:30.009527Z",
          "start_time": "2023-07-29T21:19:29.595210Z"
        },
        "id": "d4926909"
      },
      "outputs": [],
      "source": [
        "import pandas as pd\n",
        "import numpy as np\n",
        "\n",
        "np.random.seed(0)\n",
        "\n",
        "products = ['apple', 'banana', 'cherry', 'dates', 'elderberry']\n",
        "categories = ['fruit', 'fruit', 'fruit', 'fruit', 'fruit']\n",
        "\n",
        "N_ROWS = 10**6\n",
        "df = pd.DataFrame({\n",
        "    'product_name': np.random.choice(products, N_ROWS),\n",
        "    'product_category': np.random.choice(categories, N_ROWS),\n",
        "    'product_price': np.random.uniform(1, 10, N_ROWS),\n",
        "    'transaction_date': pd.date_range(start='1/1/2000', periods=N_ROWS, freq='h')\n",
        "})\n"
      ]
    },
    {
      "cell_type": "code",
      "source": [
        "memory_df = df.memory_usage(index=False).sum()"
      ],
      "metadata": {
        "id": "2UuPL3hpQAzq"
      },
      "id": "2UuPL3hpQAzq",
      "execution_count": 26,
      "outputs": []
    },
    {
      "cell_type": "code",
      "source": [
        "df_cat = df.copy()"
      ],
      "metadata": {
        "id": "iKGqWg5uNDhG"
      },
      "id": "iKGqWg5uNDhG",
      "execution_count": 13,
      "outputs": []
    },
    {
      "cell_type": "code",
      "source": [
        "df_cat['product_name'] =  pd.Categorical(df_cat['product_name'])\n",
        "df_cat['product_category'] = pd.Categorical(df_cat['product_category'])"
      ],
      "metadata": {
        "id": "FI5ecs4PNQcZ"
      },
      "id": "FI5ecs4PNQcZ",
      "execution_count": 16,
      "outputs": []
    },
    {
      "cell_type": "code",
      "source": [
        "memory_df_cat = df_cat.memory_usage(index=False).sum()\n",
        "times_num = memory_df / memory_df_cat"
      ],
      "metadata": {
        "id": "RvWAQqKXQKzi"
      },
      "id": "RvWAQqKXQKzi",
      "execution_count": 33,
      "outputs": []
    },
    {
      "cell_type": "code",
      "source": [
        "print(\n",
        "f\"\"\"Оригінальний датафрейм df займає {memory_df} байт,\n",
        "оптимізований датафрейм df_cat займає {memory_df_cat} байт.\n",
        "Новий датафрейм займає в {times_num:.2f} разів менше пам'яті\n",
        "\"\"\")"
      ],
      "metadata": {
        "colab": {
          "base_uri": "https://localhost:8080/"
        },
        "id": "lKsW189KPPGL",
        "outputId": "c4f808cb-98b4-47d7-aa12-a5c0678a54f8"
      },
      "id": "lKsW189KPPGL",
      "execution_count": 43,
      "outputs": [
        {
          "output_type": "stream",
          "name": "stdout",
          "text": [
            "Оригінальний датафрейм df займає 32000000 байт, \n",
            "оптимізований датафрейм df_cat займає 18000328 байт. \n",
            "Новий датафрейм займає в 1.78 разів менше пам'яті\n",
            "\n"
          ]
        }
      ]
    },
    {
      "cell_type": "markdown",
      "id": "131cc08d",
      "metadata": {
        "id": "131cc08d"
      },
      "source": [
        "7.В цьому завданні кілька пунктів. Треба виконати усі послідовно.   \n",
        "    7.1. Завантажте дані у pandas dataframe з файла `ecommerce_data.csv`. Обовʼязково при завантаженні вкажіть параметр `encoding = 'ISO-8859-1'`, без нього буде помилка.  \n",
        "    7.2. Заповніть пропущені значення в колонці CustomerID на -1 та перетворіть тип цієї колонки на str, адже зараз вона типу float, а це не правильний тип даних для ідентифікатора клієнта.  \n",
        "    7.3. З допомогою бібліотеки sweetviz побудуйте html звіт, який порівнює дані для країни \"Germany\" і країни \"France\". У Вас можуть виникнути багато попереджень (Warning), їх рекомендую вимкнути наступним шматком коду   \n",
        "    \n",
        "   \n",
        "    import warnings\n",
        "\n",
        "    with warnings.catch_warnings(record=True):\n",
        "        # your code\n",
        "    \n",
        "    \n",
        "   7.4.Напишіть 5 відмінностей для двох зазначених країн на основі побудованого звіту, без виконання додаткового аналізу іншими інструментами."
      ]
    },
    {
      "cell_type": "code",
      "execution_count": 44,
      "id": "17200e77",
      "metadata": {
        "id": "17200e77",
        "colab": {
          "base_uri": "https://localhost:8080/"
        },
        "outputId": "0079d8f6-5b27-4301-ef72-803c7ee5716d"
      },
      "outputs": [
        {
          "output_type": "stream",
          "name": "stdout",
          "text": [
            "Mounted at /content/drive\n"
          ]
        }
      ],
      "source": [
        "from google.colab import drive\n",
        "drive.mount('/content/drive')"
      ]
    },
    {
      "cell_type": "code",
      "source": [
        "df = pd.read_csv('drive/MyDrive/data_csv/ecommerce_data.csv', encoding = 'ISO-8859-1')"
      ],
      "metadata": {
        "id": "2fRWqaCUiapS"
      },
      "id": "2fRWqaCUiapS",
      "execution_count": 95,
      "outputs": []
    },
    {
      "cell_type": "code",
      "source": [
        "df['CustomerID'].fillna('-1', inplace=True)\n",
        "df['CustomerID'] = df['CustomerID'].astype(str)"
      ],
      "metadata": {
        "colab": {
          "base_uri": "https://localhost:8080/"
        },
        "collapsed": true,
        "id": "ZtgB4mZOip3w",
        "outputId": "fba29776-fbde-487d-d9da-85e89382be0c"
      },
      "id": "ZtgB4mZOip3w",
      "execution_count": 96,
      "outputs": [
        {
          "output_type": "stream",
          "name": "stderr",
          "text": [
            "<ipython-input-96-7275639d27b9>:1: FutureWarning: A value is trying to be set on a copy of a DataFrame or Series through chained assignment using an inplace method.\n",
            "The behavior will change in pandas 3.0. This inplace method will never work because the intermediate object on which we are setting values always behaves as a copy.\n",
            "\n",
            "For example, when doing 'df[col].method(value, inplace=True)', try using 'df.method({col: value}, inplace=True)' or df[col] = df[col].method(value) instead, to perform the operation inplace on the original object.\n",
            "\n",
            "\n",
            "  df['CustomerID'].fillna('-1', inplace=True)\n",
            "<ipython-input-96-7275639d27b9>:1: FutureWarning: Setting an item of incompatible dtype is deprecated and will raise an error in a future version of pandas. Value '-1' has dtype incompatible with float64, please explicitly cast to a compatible dtype first.\n",
            "  df['CustomerID'].fillna('-1', inplace=True)\n"
          ]
        }
      ]
    },
    {
      "cell_type": "code",
      "source": [
        "! pip install sweetviz"
      ],
      "metadata": {
        "colab": {
          "base_uri": "https://localhost:8080/"
        },
        "id": "3PY3HON7ls6f",
        "outputId": "e936a21b-fd32-42a7-c1da-fbedb213add5"
      },
      "id": "3PY3HON7ls6f",
      "execution_count": 56,
      "outputs": [
        {
          "output_type": "stream",
          "name": "stdout",
          "text": [
            "Collecting sweetviz\n",
            "  Downloading sweetviz-2.3.1-py3-none-any.whl.metadata (24 kB)\n",
            "Requirement already satisfied: pandas!=1.0.0,!=1.0.1,!=1.0.2,>=0.25.3 in /usr/local/lib/python3.10/dist-packages (from sweetviz) (2.2.2)\n",
            "Requirement already satisfied: numpy>=1.16.0 in /usr/local/lib/python3.10/dist-packages (from sweetviz) (1.26.4)\n",
            "Requirement already satisfied: matplotlib>=3.1.3 in /usr/local/lib/python3.10/dist-packages (from sweetviz) (3.7.1)\n",
            "Requirement already satisfied: tqdm>=4.43.0 in /usr/local/lib/python3.10/dist-packages (from sweetviz) (4.66.5)\n",
            "Requirement already satisfied: scipy>=1.3.2 in /usr/local/lib/python3.10/dist-packages (from sweetviz) (1.13.1)\n",
            "Requirement already satisfied: jinja2>=2.11.1 in /usr/local/lib/python3.10/dist-packages (from sweetviz) (3.1.4)\n",
            "Requirement already satisfied: importlib-resources>=1.2.0 in /usr/local/lib/python3.10/dist-packages (from sweetviz) (6.4.5)\n",
            "Requirement already satisfied: MarkupSafe>=2.0 in /usr/local/lib/python3.10/dist-packages (from jinja2>=2.11.1->sweetviz) (3.0.2)\n",
            "Requirement already satisfied: contourpy>=1.0.1 in /usr/local/lib/python3.10/dist-packages (from matplotlib>=3.1.3->sweetviz) (1.3.0)\n",
            "Requirement already satisfied: cycler>=0.10 in /usr/local/lib/python3.10/dist-packages (from matplotlib>=3.1.3->sweetviz) (0.12.1)\n",
            "Requirement already satisfied: fonttools>=4.22.0 in /usr/local/lib/python3.10/dist-packages (from matplotlib>=3.1.3->sweetviz) (4.54.1)\n",
            "Requirement already satisfied: kiwisolver>=1.0.1 in /usr/local/lib/python3.10/dist-packages (from matplotlib>=3.1.3->sweetviz) (1.4.7)\n",
            "Requirement already satisfied: packaging>=20.0 in /usr/local/lib/python3.10/dist-packages (from matplotlib>=3.1.3->sweetviz) (24.1)\n",
            "Requirement already satisfied: pillow>=6.2.0 in /usr/local/lib/python3.10/dist-packages (from matplotlib>=3.1.3->sweetviz) (10.4.0)\n",
            "Requirement already satisfied: pyparsing>=2.3.1 in /usr/local/lib/python3.10/dist-packages (from matplotlib>=3.1.3->sweetviz) (3.2.0)\n",
            "Requirement already satisfied: python-dateutil>=2.7 in /usr/local/lib/python3.10/dist-packages (from matplotlib>=3.1.3->sweetviz) (2.8.2)\n",
            "Requirement already satisfied: pytz>=2020.1 in /usr/local/lib/python3.10/dist-packages (from pandas!=1.0.0,!=1.0.1,!=1.0.2,>=0.25.3->sweetviz) (2024.2)\n",
            "Requirement already satisfied: tzdata>=2022.7 in /usr/local/lib/python3.10/dist-packages (from pandas!=1.0.0,!=1.0.1,!=1.0.2,>=0.25.3->sweetviz) (2024.2)\n",
            "Requirement already satisfied: six>=1.5 in /usr/local/lib/python3.10/dist-packages (from python-dateutil>=2.7->matplotlib>=3.1.3->sweetviz) (1.16.0)\n",
            "Downloading sweetviz-2.3.1-py3-none-any.whl (15.1 MB)\n",
            "\u001b[2K   \u001b[90m━━━━━━━━━━━━━━━━━━━━━━━━━━━━━━━━━━━━━━━━\u001b[0m \u001b[32m15.1/15.1 MB\u001b[0m \u001b[31m78.6 MB/s\u001b[0m eta \u001b[36m0:00:00\u001b[0m\n",
            "\u001b[?25hInstalling collected packages: sweetviz\n",
            "Successfully installed sweetviz-2.3.1\n"
          ]
        }
      ]
    },
    {
      "cell_type": "code",
      "source": [
        "import sweetviz as sv\n",
        "import warnings\n",
        "\n",
        "with warnings.catch_warnings(record=True):\n",
        "    filtered_df = df[df['Country'].isin(['Germany', 'France'])]\n",
        "\n",
        "    report = sv.analyze(filtered_df)\n",
        "    report.show_html('sweet_report.html')"
      ],
      "metadata": {
        "colab": {
          "base_uri": "https://localhost:8080/",
          "height": 67,
          "referenced_widgets": [
            "ef86ebdd54744565adac63f73af626d3",
            "5f1bad33a17145b3b5b6a9fd8f9bf513",
            "9cf3d2c3473a470d8e846b5ae6c8784f",
            "d589884c5c2b45baa56721aec62f576b",
            "7d3fca527d4546998bb23ecc09c978c7",
            "a50db91b9785400ea235a6418d8543ff",
            "eb24c765a8604a239c1f5948241caa4e",
            "34b10ba8427347f0aeddab2ae14f88e6",
            "543a586dabbd43438734fafb0fd1a1e4",
            "a5a2e5e62bac46b5805dbb7e2e488eb0",
            "e512c177c529413f92c4c11aaec46fcb"
          ]
        },
        "id": "IG-Ks4dClDE2",
        "outputId": "1d51be0c-b493-4408-f68e-e49fdf7df127"
      },
      "id": "IG-Ks4dClDE2",
      "execution_count": 97,
      "outputs": [
        {
          "output_type": "display_data",
          "data": {
            "text/plain": [
              "                                             |          | [  0%]   00:00 -> (? left)"
            ],
            "application/vnd.jupyter.widget-view+json": {
              "version_major": 2,
              "version_minor": 0,
              "model_id": "ef86ebdd54744565adac63f73af626d3"
            }
          },
          "metadata": {}
        },
        {
          "output_type": "stream",
          "name": "stdout",
          "text": [
            "Report sweet_report.html was generated! NOTEBOOK/COLAB USERS: the web browser MAY not pop up, regardless, the report IS saved in your notebook/colab files.\n"
          ]
        }
      ]
    },
    {
      "cell_type": "markdown",
      "source": [
        "*7.4.Напишіть 5 відмінностей для двох зазначених країн на основі побудованого звіту, без виконання додаткового аналізу іншими інструментами.*\n",
        "\n"
      ],
      "metadata": {
        "id": "zFBG-d3opjgr"
      },
      "id": "zFBG-d3opjgr"
    },
    {
      "cell_type": "markdown",
      "id": "07ae375a",
      "metadata": {
        "ExecuteTime": {
          "end_time": "2023-07-30T18:55:42.650457Z",
          "start_time": "2023-07-30T18:55:42.635729Z"
        },
        "id": "07ae375a"
      },
      "source": [
        "8.З допомогою ChatGPT виявіть, чи є та які помилки в наступному коді.  \n",
        "Попросіть після цього переписати код із дотриманням PEP8. Проаналізуйте результат. Чи справді ChatGPT виправив всі стилістичні помилки? Якщо ні, напишіть йому ще кілька запитів, аби код відповідав вимогам PEP8.  \n",
        "Вставте фінальну версію коду з чату у ноутбук та запустіть на заданому списку. Має вертатись 50.  \n",
        "Напишіть, які промпти (інструкції) при зверненні до ChatGPT ви застосували та додайте скріншот(-и) з промптами та відповідями чата.  \n",
        "Якщо зробили висновки при виконанні цього завдання, то діліться також :)\n",
        "\n",
        "**ЯК ВСТАВИТИ СКРІНШОТ в Jupyter Notebook** :\n",
        "1. Створіть нову Markdown клітинку\n",
        "2. В новоствореній клітинці обираєте в меню Jupyter Notebook Edit -> Insert Image\n",
        "3. Обираєте картинку\n",
        "4. В клітинці має зʼявитись текст, який містить картинку. Запустіть клітинку.\n",
        "\n",
        "Або можна просто перетягнути картинку в Markdown клітинку."
      ]
    },
    {
      "cell_type": "code",
      "execution_count": null,
      "id": "a5c010c4",
      "metadata": {
        "ExecuteTime": {
          "end_time": "2023-07-30T19:16:20.977219Z",
          "start_time": "2023-07-30T19:16:20.973688Z"
        },
        "id": "a5c010c4"
      },
      "outputs": [],
      "source": [
        "def CalculateVariance(nl):\n",
        "    sum_list = 0\n",
        "    for n in nl:\n",
        "        sum_list = sum_list + n\n",
        "    mean = sum_list / len(nl)\n",
        "    sum_squares = 0\n",
        "    for n in nl:\n",
        "        sum_squares = sum_squares + n**2\n",
        "    mean_squares = sum_squares / len(nl)\n",
        "    return mean_squares"
      ]
    },
    {
      "cell_type": "code",
      "execution_count": 99,
      "id": "24bb3f81",
      "metadata": {
        "ExecuteTime": {
          "end_time": "2023-07-30T19:16:09.201841Z",
          "start_time": "2023-07-30T19:16:09.199174Z"
        },
        "id": "24bb3f81"
      },
      "outputs": [],
      "source": [
        "input_list = [75, 80, 85, 90, 95]"
      ]
    },
    {
      "cell_type": "code",
      "source": [
        "def calculate_variance(nl):\n",
        "    \"\"\"Calculate the variance of a list of numbers.\"\"\"\n",
        "\n",
        "    # Check if the input is a list\n",
        "    if not isinstance(nl, list):\n",
        "        raise ValueError(\"Input must be a list.\")\n",
        "\n",
        "    # Check for empty list\n",
        "    if len(nl) == 0:\n",
        "        raise ValueError(\"List is empty; variance cannot be calculated.\")\n",
        "\n",
        "    # Check for non-numeric values\n",
        "    for n in nl:\n",
        "        if not isinstance(n, (int, float)):\n",
        "            raise ValueError(f\"Non-numeric value encountered: {n}\")\n",
        "\n",
        "    sum_list = sum(nl)  # Using built-in sum function for simplicity\n",
        "    mean = sum_list / len(nl)\n",
        "\n",
        "    sum_squares = sum(n ** 2 for n in nl)  # Using a generator expression\n",
        "    mean_squares = sum_squares / len(nl)\n",
        "\n",
        "    return mean_squares - (mean ** 2)  # Return variance instead of mean of squares\n",
        "\n",
        "try:\n",
        "    variance = calculate_variance(input_list)\n",
        "    print(\"Variance:\", variance)\n",
        "except ValueError as e:\n",
        "    print(\"Error:\", e)"
      ],
      "metadata": {
        "colab": {
          "base_uri": "https://localhost:8080/"
        },
        "id": "2fuCr0Fcv-gg",
        "outputId": "43f64701-2478-4293-d13a-a8d92f388a1a"
      },
      "id": "2fuCr0Fcv-gg",
      "execution_count": 101,
      "outputs": [
        {
          "output_type": "stream",
          "name": "stdout",
          "text": [
            "Variance: 50.0\n"
          ]
        }
      ]
    },
    {
      "cell_type": "markdown",
      "source": [
        "Використав такі промпти:\n",
        " - What are some effective ways to handle potential errors in this code? (при цьому був виданий код, який не повністю відповідає вимогам PEP 8)\n",
        " - ensure this code adheres to PEP 8 (після цього начебто все стало гарно)\n",
        "\n",
        "\n"
      ],
      "metadata": {
        "id": "oJ-Ntn9PwqdS"
      },
      "id": "oJ-Ntn9PwqdS"
    },
    {
      "cell_type": "markdown",
      "source": [
        "![image.png](data:image/png;base64,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)"
      ],
      "metadata": {
        "id": "SpHjJF5NxauA"
      },
      "id": "SpHjJF5NxauA"
    },
    {
      "cell_type": "markdown",
      "source": [
        "![image.png](data:image/png;base64,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)"
      ],
      "metadata": {
        "id": "4JRWI53wxewA"
      },
      "id": "4JRWI53wxewA"
    },
    {
      "cell_type": "markdown",
      "source": [
        "![image.png](data:image/png;base64,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)"
      ],
      "metadata": {
        "id": "DAT0q6npx8NG"
      },
      "id": "DAT0q6npx8NG"
    },
    {
      "cell_type": "markdown",
      "source": [
        "![image.png](data:image/png;base64,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)"
      ],
      "metadata": {
        "id": "ktlT7m0WxvC8"
      },
      "id": "ktlT7m0WxvC8"
    },
    {
      "cell_type": "markdown",
      "source": [
        "![image.png](data:image/png;base64,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)"
      ],
      "metadata": {
        "id": "v6z_oz6NyARP"
      },
      "id": "v6z_oz6NyARP"
    },
    {
      "cell_type": "markdown",
      "source": [
        "***Нижче розписані всі зміни, які ChatGPT вніс для відповідності коду PEP8. Можна зробити висновок, що треба давати більш точний запит, або давати декілька запитів для отримання гарного коду.***"
      ],
      "metadata": {
        "id": "maFleo_4yFLV"
      },
      "id": "maFleo_4yFLV"
    }
  ],
  "metadata": {
    "kernelspec": {
      "display_name": "Python 3 (ipykernel)",
      "language": "python",
      "name": "python3"
    },
    "language_info": {
      "codemirror_mode": {
        "name": "ipython",
        "version": 3
      },
      "file_extension": ".py",
      "mimetype": "text/x-python",
      "name": "python",
      "nbconvert_exporter": "python",
      "pygments_lexer": "ipython3",
      "version": "3.10.4"
    },
    "toc": {
      "base_numbering": 1,
      "nav_menu": {},
      "number_sections": true,
      "sideBar": true,
      "skip_h1_title": false,
      "title_cell": "Table of Contents",
      "title_sidebar": "Contents",
      "toc_cell": false,
      "toc_position": {},
      "toc_section_display": true,
      "toc_window_display": false
    },
    "colab": {
      "provenance": []
    },
    "widgets": {
      "application/vnd.jupyter.widget-state+json": {
        "ef86ebdd54744565adac63f73af626d3": {
          "model_module": "@jupyter-widgets/controls",
          "model_name": "HBoxModel",
          "model_module_version": "1.5.0",
          "state": {
            "_dom_classes": [],
            "_model_module": "@jupyter-widgets/controls",
            "_model_module_version": "1.5.0",
            "_model_name": "HBoxModel",
            "_view_count": null,
            "_view_module": "@jupyter-widgets/controls",
            "_view_module_version": "1.5.0",
            "_view_name": "HBoxView",
            "box_style": "",
            "children": [
              "IPY_MODEL_5f1bad33a17145b3b5b6a9fd8f9bf513",
              "IPY_MODEL_9cf3d2c3473a470d8e846b5ae6c8784f",
              "IPY_MODEL_d589884c5c2b45baa56721aec62f576b"
            ],
            "layout": "IPY_MODEL_7d3fca527d4546998bb23ecc09c978c7"
          }
        },
        "5f1bad33a17145b3b5b6a9fd8f9bf513": {
          "model_module": "@jupyter-widgets/controls",
          "model_name": "HTMLModel",
          "model_module_version": "1.5.0",
          "state": {
            "_dom_classes": [],
            "_model_module": "@jupyter-widgets/controls",
            "_model_module_version": "1.5.0",
            "_model_name": "HTMLModel",
            "_view_count": null,
            "_view_module": "@jupyter-widgets/controls",
            "_view_module_version": "1.5.0",
            "_view_name": "HTMLView",
            "description": "",
            "description_tooltip": null,
            "layout": "IPY_MODEL_a50db91b9785400ea235a6418d8543ff",
            "placeholder": "​",
            "style": "IPY_MODEL_eb24c765a8604a239c1f5948241caa4e",
            "value": "Done! Use &#x27;show&#x27; commands to display/save.   "
          }
        },
        "9cf3d2c3473a470d8e846b5ae6c8784f": {
          "model_module": "@jupyter-widgets/controls",
          "model_name": "FloatProgressModel",
          "model_module_version": "1.5.0",
          "state": {
            "_dom_classes": [],
            "_model_module": "@jupyter-widgets/controls",
            "_model_module_version": "1.5.0",
            "_model_name": "FloatProgressModel",
            "_view_count": null,
            "_view_module": "@jupyter-widgets/controls",
            "_view_module_version": "1.5.0",
            "_view_name": "ProgressView",
            "bar_style": "success",
            "description": "",
            "description_tooltip": null,
            "layout": "IPY_MODEL_34b10ba8427347f0aeddab2ae14f88e6",
            "max": 1,
            "min": 0,
            "orientation": "horizontal",
            "style": "IPY_MODEL_543a586dabbd43438734fafb0fd1a1e4",
            "value": 1
          }
        },
        "d589884c5c2b45baa56721aec62f576b": {
          "model_module": "@jupyter-widgets/controls",
          "model_name": "HTMLModel",
          "model_module_version": "1.5.0",
          "state": {
            "_dom_classes": [],
            "_model_module": "@jupyter-widgets/controls",
            "_model_module_version": "1.5.0",
            "_model_name": "HTMLModel",
            "_view_count": null,
            "_view_module": "@jupyter-widgets/controls",
            "_view_module_version": "1.5.0",
            "_view_name": "HTMLView",
            "description": "",
            "description_tooltip": null,
            "layout": "IPY_MODEL_a5a2e5e62bac46b5805dbb7e2e488eb0",
            "placeholder": "​",
            "style": "IPY_MODEL_e512c177c529413f92c4c11aaec46fcb",
            "value": " [100%]   00:00 -&gt; (00:00 left)"
          }
        },
        "7d3fca527d4546998bb23ecc09c978c7": {
          "model_module": "@jupyter-widgets/base",
          "model_name": "LayoutModel",
          "model_module_version": "1.2.0",
          "state": {
            "_model_module": "@jupyter-widgets/base",
            "_model_module_version": "1.2.0",
            "_model_name": "LayoutModel",
            "_view_count": null,
            "_view_module": "@jupyter-widgets/base",
            "_view_module_version": "1.2.0",
            "_view_name": "LayoutView",
            "align_content": null,
            "align_items": null,
            "align_self": null,
            "border": null,
            "bottom": null,
            "display": "inline-flex",
            "flex": null,
            "flex_flow": "row wrap",
            "grid_area": null,
            "grid_auto_columns": null,
            "grid_auto_flow": null,
            "grid_auto_rows": null,
            "grid_column": null,
            "grid_gap": null,
            "grid_row": null,
            "grid_template_areas": null,
            "grid_template_columns": null,
            "grid_template_rows": null,
            "height": null,
            "justify_content": null,
            "justify_items": null,
            "left": null,
            "margin": null,
            "max_height": null,
            "max_width": null,
            "min_height": null,
            "min_width": null,
            "object_fit": null,
            "object_position": null,
            "order": null,
            "overflow": null,
            "overflow_x": null,
            "overflow_y": null,
            "padding": null,
            "right": null,
            "top": null,
            "visibility": null,
            "width": "100%"
          }
        },
        "a50db91b9785400ea235a6418d8543ff": {
          "model_module": "@jupyter-widgets/base",
          "model_name": "LayoutModel",
          "model_module_version": "1.2.0",
          "state": {
            "_model_module": "@jupyter-widgets/base",
            "_model_module_version": "1.2.0",
            "_model_name": "LayoutModel",
            "_view_count": null,
            "_view_module": "@jupyter-widgets/base",
            "_view_module_version": "1.2.0",
            "_view_name": "LayoutView",
            "align_content": null,
            "align_items": null,
            "align_self": null,
            "border": null,
            "bottom": null,
            "display": null,
            "flex": null,
            "flex_flow": null,
            "grid_area": null,
            "grid_auto_columns": null,
            "grid_auto_flow": null,
            "grid_auto_rows": null,
            "grid_column": null,
            "grid_gap": null,
            "grid_row": null,
            "grid_template_areas": null,
            "grid_template_columns": null,
            "grid_template_rows": null,
            "height": null,
            "justify_content": null,
            "justify_items": null,
            "left": null,
            "margin": null,
            "max_height": null,
            "max_width": null,
            "min_height": null,
            "min_width": null,
            "object_fit": null,
            "object_position": null,
            "order": null,
            "overflow": null,
            "overflow_x": null,
            "overflow_y": null,
            "padding": null,
            "right": null,
            "top": null,
            "visibility": null,
            "width": null
          }
        },
        "eb24c765a8604a239c1f5948241caa4e": {
          "model_module": "@jupyter-widgets/controls",
          "model_name": "DescriptionStyleModel",
          "model_module_version": "1.5.0",
          "state": {
            "_model_module": "@jupyter-widgets/controls",
            "_model_module_version": "1.5.0",
            "_model_name": "DescriptionStyleModel",
            "_view_count": null,
            "_view_module": "@jupyter-widgets/base",
            "_view_module_version": "1.2.0",
            "_view_name": "StyleView",
            "description_width": ""
          }
        },
        "34b10ba8427347f0aeddab2ae14f88e6": {
          "model_module": "@jupyter-widgets/base",
          "model_name": "LayoutModel",
          "model_module_version": "1.2.0",
          "state": {
            "_model_module": "@jupyter-widgets/base",
            "_model_module_version": "1.2.0",
            "_model_name": "LayoutModel",
            "_view_count": null,
            "_view_module": "@jupyter-widgets/base",
            "_view_module_version": "1.2.0",
            "_view_name": "LayoutView",
            "align_content": null,
            "align_items": null,
            "align_self": null,
            "border": null,
            "bottom": null,
            "display": null,
            "flex": "2",
            "flex_flow": null,
            "grid_area": null,
            "grid_auto_columns": null,
            "grid_auto_flow": null,
            "grid_auto_rows": null,
            "grid_column": null,
            "grid_gap": null,
            "grid_row": null,
            "grid_template_areas": null,
            "grid_template_columns": null,
            "grid_template_rows": null,
            "height": null,
            "justify_content": null,
            "justify_items": null,
            "left": null,
            "margin": null,
            "max_height": null,
            "max_width": null,
            "min_height": null,
            "min_width": null,
            "object_fit": null,
            "object_position": null,
            "order": null,
            "overflow": null,
            "overflow_x": null,
            "overflow_y": null,
            "padding": null,
            "right": null,
            "top": null,
            "visibility": null,
            "width": null
          }
        },
        "543a586dabbd43438734fafb0fd1a1e4": {
          "model_module": "@jupyter-widgets/controls",
          "model_name": "ProgressStyleModel",
          "model_module_version": "1.5.0",
          "state": {
            "_model_module": "@jupyter-widgets/controls",
            "_model_module_version": "1.5.0",
            "_model_name": "ProgressStyleModel",
            "_view_count": null,
            "_view_module": "@jupyter-widgets/base",
            "_view_module_version": "1.2.0",
            "_view_name": "StyleView",
            "bar_color": null,
            "description_width": ""
          }
        },
        "a5a2e5e62bac46b5805dbb7e2e488eb0": {
          "model_module": "@jupyter-widgets/base",
          "model_name": "LayoutModel",
          "model_module_version": "1.2.0",
          "state": {
            "_model_module": "@jupyter-widgets/base",
            "_model_module_version": "1.2.0",
            "_model_name": "LayoutModel",
            "_view_count": null,
            "_view_module": "@jupyter-widgets/base",
            "_view_module_version": "1.2.0",
            "_view_name": "LayoutView",
            "align_content": null,
            "align_items": null,
            "align_self": null,
            "border": null,
            "bottom": null,
            "display": null,
            "flex": null,
            "flex_flow": null,
            "grid_area": null,
            "grid_auto_columns": null,
            "grid_auto_flow": null,
            "grid_auto_rows": null,
            "grid_column": null,
            "grid_gap": null,
            "grid_row": null,
            "grid_template_areas": null,
            "grid_template_columns": null,
            "grid_template_rows": null,
            "height": null,
            "justify_content": null,
            "justify_items": null,
            "left": null,
            "margin": null,
            "max_height": null,
            "max_width": null,
            "min_height": null,
            "min_width": null,
            "object_fit": null,
            "object_position": null,
            "order": null,
            "overflow": null,
            "overflow_x": null,
            "overflow_y": null,
            "padding": null,
            "right": null,
            "top": null,
            "visibility": null,
            "width": null
          }
        },
        "e512c177c529413f92c4c11aaec46fcb": {
          "model_module": "@jupyter-widgets/controls",
          "model_name": "DescriptionStyleModel",
          "model_module_version": "1.5.0",
          "state": {
            "_model_module": "@jupyter-widgets/controls",
            "_model_module_version": "1.5.0",
            "_model_name": "DescriptionStyleModel",
            "_view_count": null,
            "_view_module": "@jupyter-widgets/base",
            "_view_module_version": "1.2.0",
            "_view_name": "StyleView",
            "description_width": ""
          }
        }
      }
    }
  },
  "nbformat": 4,
  "nbformat_minor": 5
}